{
 "metadata": {
  "language_info": {
   "codemirror_mode": {
    "name": "ipython",
    "version": 3
   },
   "file_extension": ".py",
   "mimetype": "text/x-python",
   "name": "python",
   "nbconvert_exporter": "python",
   "pygments_lexer": "ipython3",
   "version": "3.8.5"
  },
  "orig_nbformat": 2,
  "kernelspec": {
   "name": "python385jvsc74a57bd031f2aee4e71d21fbe5cf8b01ff0e069b9275f58929596ceb00d14d90e3e16cd6",
   "display_name": "Python 3.8.5 64-bit"
  },
  "metadata": {
   "interpreter": {
    "hash": "31f2aee4e71d21fbe5cf8b01ff0e069b9275f58929596ceb00d14d90e3e16cd6"
   }
  }
 },
 "nbformat": 4,
 "nbformat_minor": 2,
 "cells": [
  {
   "source": [
    "# Contours Lab\n",
    "\n",
    "In this lab we need to explore contours shapes.\n",
    "\n",
    "![](Files/Contours/lab.png)\n",
    "\n",
    "## Required\n",
    "\n",
    "- Erase the 3 small shapes.\n",
    "- Fill the rectangle with blue color.\n",
    "- Fill the oval with red color.\n",
    "\n",
    "## Grade\n",
    "\n",
    "10"
   ],
   "cell_type": "markdown",
   "metadata": {}
  },
  {
   "source": [],
   "cell_type": "markdown",
   "metadata": {}
  },
  {
   "cell_type": "code",
   "execution_count": 38,
   "metadata": {},
   "outputs": [],
   "source": [
    "import cv2\n",
    "import numpy as np\n",
    "\n",
    "\n",
    "def nothing(x):\n",
    "    pass\n",
    "\n",
    "reter = [\n",
    "    cv2.RETR_CCOMP,\n",
    "    cv2.RETR_EXTERNAL,\n",
    "    cv2.RETR_LIST,\n",
    "    cv2.RETR_TREE\n",
    "]\n",
    "\n",
    "approx = [\n",
    "    cv2.CHAIN_APPROX_NONE,\n",
    "\tcv2.CHAIN_APPROX_SIMPLE,\n",
    "    cv2.CHAIN_APPROX_TC89_L1,\n",
    "    cv2.CHAIN_APPROX_TC89_KCOS\n",
    "]\n",
    "\n",
    "cv2.namedWindow('Output')\n",
    "\n",
    "\n",
    "img = cv2.imread('Files/Contours/lab.png')\n",
    "gray = cv2.cvtColor(img, cv2.COLOR_BGR2GRAY)\n",
    "\n",
    "while 1:\n",
    "    out = img.copy()\n",
    "    edges = cv2.Canny(gray, 50, 150)\n",
    "\n",
    "    contours, _ = cv2.findContours(edges, reter[2], approx[0])\n",
    "    #------------------------------------------------------------------smal shapes erasing---------------------------------------------------\n",
    "\n",
    "    cv2.drawContours(out, contours[1], -1, (255,255,255), 20)\n",
    "\n",
    "    cv2.drawContours(out, contours[10], -1, (255,255,255), 20)\n",
    "\n",
    "    cv2.drawContours(out, contours[12], -1, (255,255,255), 20)\n",
    "    #------------------------------------------------------------------Filling Big shapes---------------------------------------------------\n",
    "    #cv2.drawContours(out, contours[5], -1, (0,0,255), 2)         #8&5\n",
    "    cv2.fillPoly(out, pts =[contours[5]], color=(0,0,255))\n",
    "    cv2.fillPoly(out, pts =[contours[8]], color=(0,0,255))\n",
    "\n",
    "    #cv2.drawContours(out, contours[6], -1, (0,0,255), 2)     #6\n",
    "    #cv2.drawContours(out, contours[3], -1, (0,0,255), 2) \n",
    "    cv2.fillPoly(out, pts =[contours[6]], color=(255,0,0))\n",
    "\n",
    "    cv2.imshow('Output', out)\n",
    "    \n",
    "    #cv2.imshow('Edges', edges)\n",
    "    k = cv2.waitKey(1)\n",
    "    if k == ord('q'):\n",
    "        break\n",
    "\n",
    "cv2.destroyAllWindows()\n"
   ]
  },
  {
   "cell_type": "code",
   "execution_count": null,
   "metadata": {},
   "outputs": [],
   "source": []
  }
 ]
}
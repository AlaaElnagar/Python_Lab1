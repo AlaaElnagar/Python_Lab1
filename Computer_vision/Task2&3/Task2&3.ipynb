{
 "cells": [
  {
   "cell_type": "markdown",
   "id": "8b287f6c",
   "metadata": {},
   "source": [
    "# Color spaces lab\n",
    "\n",
    "We need to get familier with colorspaces, channel slicing, and single channels changes.\n",
    "\n",
    "---\n",
    "\n",
    "## Task 1\n",
    "\n",
    "In the carkyo image use the HSV colorspace to:\n",
    "- Add 10 to all S channel values.\n",
    "- Subtract 5 from H channel.\n",
    "- Myltiply V channel by 1.25.\n",
    "- Save image again in BGR.\n",
    "- Describe the results in your words.\n",
    "  - What is the effect of each change?\n",
    "  - What problem did you face and how you fixed it?\n",
    "\n",
    "## Task 2\n",
    "\n",
    "- Create YCrCb image.\n",
    "- Multiply Y channel by 1.25 in YCrCb colorspace.\n",
    "- Describe the result.\n",
    "\n",
    "---\n",
    "\n",
    "## Grade\n",
    "\n",
    "- 15\n",
    "  - 10 for HSV task.\n",
    "  - 3 for YCrCb task.\n",
    "  - 2 for finishing within the lab time.\n",
    "\n",
    "---\n",
    "\n",
    "## Output should be like this:\n",
    "\n",
    "### HSV\n",
    "![Image](Files/output/hsv.png)\n",
    "\n",
    "### YCrCb\n",
    "![Image](Files/output/yCrCb.png)"
   ]
  },
  {
   "cell_type": "code",
   "execution_count": 1,
   "id": "69676234",
   "metadata": {},
   "outputs": [],
   "source": [
    "import cv2\n",
    "import numpy as np\n"
   ]
  },
  {
   "cell_type": "code",
   "execution_count": 3,
   "id": "10b976ea",
   "metadata": {},
   "outputs": [],
   "source": [
    "img = cv2.imread ('Files/001.jpg')\n",
    "img = cv2.cvtColor(img, cv2.COLOR_BGR2RGB)\n"
   ]
  },
  {
   "cell_type": "code",
   "execution_count": null,
   "id": "40e17962",
   "metadata": {},
   "outputs": [],
   "source": [
    "hsv = cv2.cvtColor(img, cv2.COLOR_RGB2HSV)\n",
    "\n",
    "\n",
    "\n",
    "h = hsv[:,:,0]-5\n",
    "\n",
    "s = hsv[:,:,1]+10\n",
    "v = hsv[:,:,2]*1.25\n",
    "\n",
    "\n",
    "#I REALIZED THAT THERE IS A CHANGE BETWEEN THE TWO IMAGES SO I SET A SAFE RANGE \n",
    "\n",
    "h[h>255]=255\n",
    "\n",
    "s[s>255]=255\n",
    "\n",
    "v[v>255]=255\n",
    "    \n",
    "hsv = cv2.cvtColor(hsv, cv2.COLOR_HSV2BGR)\n",
    "\n",
    "cv2.imshow('example', hsv)\n",
    "cv2.waitKey()\n"
   ]
  },
  {
   "cell_type": "code",
   "execution_count": null,
   "id": "04ae0ce2",
   "metadata": {},
   "outputs": [],
   "source": [
    "img = cv2.imread ('Files/001.jpg')\n",
    "img = cv2.cvtColor(img, cv2.COLOR_BGR2RGB)\n",
    "\n",
    "yCrCb = cv2.cvtColor(img, cv2.COLOR_RGB2YCrCb)\n",
    "\n",
    "\n",
    "y = yCrCb[:,:,0] *1.125\n",
    "cr =yCrCb[:,:,1]\n",
    "cb =yCrCb[:,:,2]\n",
    "\n",
    "\n",
    "#I REALIZED THAT THERE IS A CHANGE BETWEEN THE TWO IMAGES SO I SET A SAFE RANGE \n",
    "\n",
    "y[y>255]=255\n",
    "\n",
    "    \n",
    "yCrCb = cv2.cvtColor(yCrCb , cv2.COLOR_YCrCb2BGR)\n",
    "\n",
    "cv2.imshow('example', yCrCb )\n",
    "cv2.waitKey()"
   ]
  },
  {
   "cell_type": "code",
   "execution_count": null,
   "id": "cf685719",
   "metadata": {},
   "outputs": [],
   "source": []
  },
  {
   "cell_type": "code",
   "execution_count": null,
   "id": "07df6dc4",
   "metadata": {},
   "outputs": [],
   "source": []
  },
  {
   "cell_type": "code",
   "execution_count": null,
   "id": "caa355b6",
   "metadata": {},
   "outputs": [],
   "source": []
  }
 ],
 "metadata": {
  "kernelspec": {
   "display_name": "Python 3",
   "language": "python",
   "name": "python3"
  },
  "language_info": {
   "codemirror_mode": {
    "name": "ipython",
    "version": 3
   },
   "file_extension": ".py",
   "mimetype": "text/x-python",
   "name": "python",
   "nbconvert_exporter": "python",
   "pygments_lexer": "ipython3",
   "version": "3.8.8"
  }
 },
 "nbformat": 4,
 "nbformat_minor": 5
}

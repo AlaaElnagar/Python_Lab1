{
 "cells": [
  {
   "cell_type": "code",
   "execution_count": 1,
   "id": "b3126dfb",
   "metadata": {},
   "outputs": [
    {
     "name": "stdout",
     "output_type": "stream",
     "text": [
      "255\n",
      "255\n",
      "318.75\n",
      "255.0\n"
     ]
    }
   ],
   "source": [
    "import cv2\n",
    "import numpy as np\n",
    "img = cv2.imread (\"carkyo.jpg\")\n",
    "\n",
    "\n",
    "img = cv2.cvtColor(img, cv2.COLOR_BGR2RGB)\n",
    "\n",
    "\n",
    "hsv= cv2.cvtColor(img, cv2.COLOR_RGB2HSV)\n",
    "\n",
    "h = hsv[:,:,0]-5\n",
    "\n",
    "s = hsv[:,:,1]+10\n",
    "\n",
    "v = hsv[:,:,2]*1.25\n",
    "print (np.max(h))\n",
    "print (np.max(s))\n",
    "print (np.max(v))    #as shown the value of h is over than 255 then there will be over write and that is\n",
    "                    #the reason of black colour the value of colour get down so i need to make v to max value \n",
    "v[v>255]=255                #<<<<              here the magic is \n",
    "\n",
    "print (np.max(v))\n",
    "#hsv =[h,s,v]\n",
    "\n",
    "\n",
    "\n",
    "hsv = (np.dstack((h,s,v)) ) .astype(np.uint8)       \n",
    "\n",
    "\n",
    "hsv = cv2.cvtColor(hsv, cv2.COLOR_HSV2BGR)\n",
    "\n",
    "cv2.imshow(\"Task2&3\",hsv)\n",
    "\n",
    "\n",
    "\n",
    "cv2.waitKey(0)\n",
    "cv2.destroyAllWindows()\n",
    "\n"
   ]
  },
  {
   "cell_type": "code",
   "execution_count": null,
   "id": "7be5a5f4",
   "metadata": {},
   "outputs": [
    {
     "name": "stdout",
     "output_type": "stream",
     "text": [
      "286.875\n",
      "255.0\n"
     ]
    }
   ],
   "source": [
    "import cv2\n",
    "import numpy as np\n",
    "img = cv2.imread (\"carkyo.jpg\")\n",
    "\n",
    "img = cv2.cvtColor(img, cv2.COLOR_BGR2RGB)\n",
    "\n",
    "yCrCb = cv2.cvtColor(img, cv2.COLOR_RGB2YCrCb)\n",
    "\n",
    "\n",
    "y = yCrCb[:,:,0] *1.125\n",
    "cr =yCrCb[:,:,1]\n",
    "cb =yCrCb[:,:,2]\n",
    "\n",
    "\n",
    "\n",
    "\n",
    "#I REALIZED THAT THERE IS A CHANGE BETWEEN THE TWO IMAGES SO I SET A SAFE RANGE \n",
    "print (np.max(y))\n",
    "y[y>255]=255\n",
    "print (np.max(y))\n",
    "\n",
    "yCrCb = (np.dstack((y,cr,cb)) ) .astype(np.uint8) \n",
    "\n",
    "yCrCb = cv2.cvtColor(yCrCb , cv2.COLOR_YCrCb2BGR)\n",
    "\n",
    "cv2.imshow('example', yCrCb )\n",
    "\n",
    "cv2.waitKey(0)\n",
    "cv2.destroyAllWindows()\n"
   ]
  },
  {
   "cell_type": "code",
   "execution_count": null,
   "id": "f5d5fb42",
   "metadata": {},
   "outputs": [],
   "source": []
  }
 ],
 "metadata": {
  "kernelspec": {
   "display_name": "Python 3",
   "language": "python",
   "name": "python3"
  },
  "language_info": {
   "codemirror_mode": {
    "name": "ipython",
    "version": 3
   },
   "file_extension": ".py",
   "mimetype": "text/x-python",
   "name": "python",
   "nbconvert_exporter": "python",
   "pygments_lexer": "ipython3",
   "version": "3.8.8"
  }
 },
 "nbformat": 4,
 "nbformat_minor": 5
}

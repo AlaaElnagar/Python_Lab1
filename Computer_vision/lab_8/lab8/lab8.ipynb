{
 "cells": [
  {
   "cell_type": "code",
   "execution_count": 61,
   "id": "e0ac9e56",
   "metadata": {},
   "outputs": [],
   "source": [
    "import cv2\n",
    "import numpy as np\n",
    "import matplotlib.pyplot as plt\n",
    "\n",
    "img = cv2.imread('Building.jpg')\n",
    "gray = cv2.cvtColor(img, cv2.COLOR_BGR2GRAY)\n",
    "\n",
    "\n",
    "def nothing(x):\n",
    "    pass\n",
    "\n",
    "cv2.namedWindow('h')\n",
    "\n",
    "cv2.createTrackbar('a', 'h', 300, 500, nothing)\n",
    "cv2.createTrackbar('b', 'h', 300, 500, nothing)\n",
    "cv2.createTrackbar('c', 'h', 300, 500, nothing)\n",
    "\n",
    "edges = cv2.Canny(gray, 50, 200)\n",
    "\n",
    "while 1:\n",
    "    image = img.copy()\n",
    "    a = cv2.getTrackbarPos('a','h')\n",
    "    b = cv2.getTrackbarPos('b','h')\n",
    "    c = cv2.getTrackbarPos('c','h')\n",
    "   # lines = cv2.HoughLines(edges, 1, np.pi/180, x)\n",
    "    \n",
    "    lines = cv2.HoughLinesP(edges,rho = 1,theta = 1*np.pi/180,threshold =  a,minLineLength = b,maxLineGap = c)\n",
    "\n",
    "\n",
    "            \n",
    "    if lines is not None:\n",
    "        for i in range(0, len(lines)):\n",
    "            l = lines[i][0]\n",
    "            cv2.line(image, (l[0], l[1]), (l[2], l[3]), (0,0,255), 3, cv2.LINE_AA)\n",
    "       \n",
    "    edgesC = cv2.cvtColor(edges, cv2.COLOR_GRAY2BGR)\n",
    "    image = cv2.addWeighted(image, 0.9, edgesC, 0.5, 0)\n",
    "    cv2.imshow('h', image)\n",
    "    k = cv2.waitKey(1)\n",
    "    if k == 27:\n",
    "        break\n",
    "\n",
    "cv2.destroyAllWindows()"
   ]
  },
  {
   "cell_type": "code",
   "execution_count": null,
   "id": "a21ec240",
   "metadata": {},
   "outputs": [],
   "source": []
  },
  {
   "cell_type": "code",
   "execution_count": 2,
   "id": "078d9590",
   "metadata": {
    "scrolled": true
   },
   "outputs": [],
   "source": [
    "import cv2\n",
    "import numpy as np\n",
    "import matplotlib.pyplot as plt\n",
    "\n",
    "img = cv2.imread('Road.jpg')\n",
    "img1 = cv2.cvtColor(img, cv2.COLOR_BGR2GRAY)\n",
    "gray = cv2.cvtColor(img, cv2.COLOR_BGR2GRAY)\n",
    "\n",
    "def nothing(x):\n",
    "    pass\n",
    "\n",
    "cv2.namedWindow('h')\n",
    "\n",
    "cv2.createTrackbar('a', 'h', 0, 255, nothing)\n",
    "cv2.createTrackbar('b', 'h', 0, 255, nothing)\n",
    "cv2.createTrackbar('c', 'h', 0, 255, nothing)\n",
    "\n",
    "gray = cv2.GaussianBlur(gray,(3,3),0)\n",
    "edges = cv2.Canny(gray, 50, 200)\n",
    "\n",
    "while 1:\n",
    "\n",
    "    image = img.copy()\n",
    "    \n",
    "    a = cv2.getTrackbarPos('a','h')\n",
    "    b = cv2.getTrackbarPos('b','h')\n",
    "    c = cv2.getTrackbarPos('c','h')\n",
    "\n",
    "    lines = cv2.HoughLinesP(edges,rho = 1,theta = 1*np.pi/180,threshold =  a,minLineLength = b,maxLineGap = c)\n",
    "           \n",
    "    if lines is not None:\n",
    "        for i in range(0, len(lines)):\n",
    "            l = lines[i][0]\n",
    "            cv2.line(image, (l[0], l[1]), (l[2], l[3]), (0,0,255), 3, cv2.LINE_AA)\n",
    "       \n",
    "    edgesC = cv2.cvtColor(edges, cv2.COLOR_GRAY2BGR)\n",
    " \n",
    " \n",
    "    image = cv2.addWeighted( image, 0.9, edgesC , 0.5, 0)\n",
    "    cv2.imshow('h',  image)\n",
    "    k = cv2.waitKey(1)\n",
    "    if k == 27:\n",
    "        break\n",
    "\n",
    "cv2.destroyAllWindows()"
   ]
  },
  {
   "cell_type": "code",
   "execution_count": null,
   "id": "05eeea49",
   "metadata": {},
   "outputs": [],
   "source": [
    " "
   ]
  },
  {
   "cell_type": "code",
   "execution_count": null,
   "id": "fb776390",
   "metadata": {},
   "outputs": [],
   "source": []
  }
 ],
 "metadata": {
  "kernelspec": {
   "display_name": "Python 3",
   "language": "python",
   "name": "python3"
  },
  "language_info": {
   "codemirror_mode": {
    "name": "ipython",
    "version": 3
   },
   "file_extension": ".py",
   "mimetype": "text/x-python",
   "name": "python",
   "nbconvert_exporter": "python",
   "pygments_lexer": "ipython3",
   "version": "3.8.8"
  }
 },
 "nbformat": 4,
 "nbformat_minor": 5
}

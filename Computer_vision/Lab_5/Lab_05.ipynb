{
 "cells": [
  {
   "cell_type": "code",
   "execution_count": 13,
   "id": "e77254eb",
   "metadata": {},
   "outputs": [],
   "source": [
    "''' Steps\n",
    "\n",
    "1- read the video\n",
    "2- get frames \n",
    "3- thresuld\n",
    "4- save the frames \n",
    "'''\n",
    "\n",
    "\n"
   ]
  },
  {
   "cell_type": "code",
   "execution_count": 11,
   "id": "d90de051",
   "metadata": {},
   "outputs": [],
   "source": [
    "''' Steps\n",
    "\n",
    "1- read the video\n",
    "2- get frames \n",
    "3- thresuld\n",
    "4- save the frames \n",
    "'''\n",
    "\n",
    "import cv2\n",
    "import random \n",
    "import time \n",
    "\n",
    "methods = ['THRESH_BINARY',\n",
    "           'THRESH_BINARY_INV',\n",
    "           'THRESH_TRUNC',\n",
    "           'THRESH_TOZERO',\n",
    "           'THRESH_TOZERO_INV',\n",
    "           'THRESH_TRIANGLE']\n",
    "\n",
    "methods1 = ['ADAPTIVE_THRESH_MEAN',\n",
    "           'ADAPTIVE_THRESH_GAUSSIAN_C'\n",
    "          ]\n",
    "\n",
    "image = cv2.VideoCapture('Lanes.mp4')\n",
    "\n",
    "\n",
    "cv2.namedWindow('Image')\n",
    "\n",
    "ret, frame = image.read()\n",
    "frame = cv2.cvtColor(frame, cv2.COLOR_BGR2RGB) \n",
    "height, width, layers = frame.shape\n",
    "size = (width,height)\n",
    "out = cv2.VideoWriter('project6.avi',cv2.VideoWriter_fourcc(*'DIVX'), 20, size,0)\n",
    "\n",
    "\n",
    "while (image.isOpened()):\n",
    "\n",
    "    ret, frame = image.read()\n",
    "    if ret == True:\n",
    "        frame = cv2.cvtColor(frame, cv2.COLOR_BGR2GRAY)    \n",
    "        ret1, frame = cv2.threshold(frame, 180, 255, cv2.THRESH_TOZERO)\n",
    "\n",
    "        out.write(frame)\n",
    "        cv2.imshow('Image', frame)\n",
    "\n",
    "   \n",
    "    k = cv2.waitKey(1)\n",
    "    if k == 27:\n",
    "        break\n",
    "out.release()\n",
    "\n",
    "cv2.destroyAllWindows()"
   ]
  },
  {
   "cell_type": "code",
   "execution_count": null,
   "id": "5daaf4cf",
   "metadata": {},
   "outputs": [],
   "source": []
  }
 ],
 "metadata": {
  "kernelspec": {
   "display_name": "Python 3",
   "language": "python",
   "name": "python3"
  },
  "language_info": {
   "codemirror_mode": {
    "name": "ipython",
    "version": 3
   },
   "file_extension": ".py",
   "mimetype": "text/x-python",
   "name": "python",
   "nbconvert_exporter": "python",
   "pygments_lexer": "ipython3",
   "version": "3.8.8"
  }
 },
 "nbformat": 4,
 "nbformat_minor": 5
}

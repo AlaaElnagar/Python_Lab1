{
 "cells": [
  {
   "cell_type": "markdown",
   "id": "45085109",
   "metadata": {},
   "source": [
    "# Draw with you mouse !\n",
    "\n",
    "---\n",
    "\n",
    "## Task\n",
    "\n",
    "We need to get familier with using mouse events in opencv.\n",
    "\n",
    "## Criteria\n",
    "\n",
    "Use 5 diffrent mouse events `with mouse click in the center except for the text` to draw:\n",
    "- 10*10 green square.\n",
    "- 20*10 red rectangle.\n",
    "- 15 in raduis solid blue circle.\n",
    "- half-circle arch in yellow.\n",
    "- Write your name as a text in any color.\n",
    "\n",
    "---\n",
    "\n",
    "## Grade\n",
    "\n",
    "- 10\n",
    "  - 8 for the correct answer.\n",
    "  - 2 for finishing before the end of the lab.\n",
    "\n",
    "---\n"
   ]
  },
  {
   "cell_type": "code",
   "execution_count": 39,
   "id": "d2f6c108",
   "metadata": {},
   "outputs": [
    {
     "data": {
      "image/png": "[encoded data removed]",
      "text/plain": [
       "<PIL.Image.Image image mode=RGB size=512x512 at 0x7FDC8EEE1070>"
      ]
     },
     "metadata": {},
     "output_type": "display_data"
    }
   ],
   "source": [
    "\n",
    "import numpy as np\n",
    "import cv2 \n",
    "from PIL import Image\n",
    "def SHOW(img):\n",
    "    display(Image.fromarray(img));\n",
    "\n",
    "drawing = False # true if mouse is pressed\n",
    "mode = True # if True, draw rectangle. Press 'm' to toggle to curve\n",
    "ix,iy = -1,-1\n",
    "\n",
    "# mouse callback function\n",
    "def draw_circle(event,x,y,flags,param):\n",
    "    global ix,iy,drawing,mode\n",
    "    if event == cv.EVENT_LBUTTONDOWN:\n",
    "        x1 = x\n",
    "        y1 = y\n",
    "        cv2.rectangle(img, (x,y), (x+10,y+10), (0,0,255), -1)\n",
    "        \n",
    "\n",
    "    elif event == cv.EVENT_LBUTTONUP:\n",
    "        cv.rectangle(img,(x,y),(x+20,y+10),(0,255,0),-1)\n",
    "\n",
    "       \n",
    "    elif event == cv2.EVENT_RBUTTONDOWN:\n",
    "        cv2.circle(img, (x,y), 7, (255,0,0), 20)\n",
    "    elif event == cv2.EVENT_RBUTTONUP:\n",
    "        cv2.ellipse(img,(x,y),(15,15),90,0,90,(255,255,0),2)\n",
    "    elif event == cv2.EVENT_MOUSEWHEEL:\n",
    "        cv2.putText(img, 'AlaaElnagar', (x, y), cv2.FONT_HERSHEY_SIMPLEX, 1, (170, 100, 255), 2, cv2.FILLED)\n",
    "\n",
    "                    \n",
    "img=np.zeros((512,512,3), np.uint8)\n",
    "cv.namedWindow('image')\n",
    "cv.setMouseCallback('image',draw_circle)\n",
    "img = np.zeros((512,512,3), np.uint8)\n",
    "\n",
    "while(1):\n",
    "    cv.imshow('image',img)\n",
    "    \n",
    "    k = cv.waitKey(1)\n",
    "\n",
    "    if k == ord('q'):\n",
    "        break\n",
    "\n",
    "cv.destroyAllWindows()\n",
    "SHOW(img)"
   ]
  },
  {
   "cell_type": "code",
   "execution_count": null,
   "id": "7cc51729",
   "metadata": {},
   "outputs": [],
   "source": []
  }
 ],
 "metadata": {
  "kernelspec": {
   "display_name": "Python 3",
   "language": "python",
   "name": "python3"
  },
  "language_info": {
   "codemirror_mode": {
    "name": "ipython",
    "version": 3
   },
   "file_extension": ".py",
   "mimetype": "text/x-python",
   "name": "python",
   "nbconvert_exporter": "python",
   "pygments_lexer": "ipython3",
   "version": "3.8.8"
  }
 },
 "nbformat": 4,
 "nbformat_minor": 5
}

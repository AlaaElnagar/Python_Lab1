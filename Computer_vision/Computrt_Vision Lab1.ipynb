{
 "cells": [
  {
   "cell_type": "code",
   "execution_count": 1,
   "id": "8f936909",
   "metadata": {},
   "outputs": [
    {
     "name": "stdout",
     "output_type": "stream",
     "text": [
      "3.0040602684020996\n"
     ]
    }
   ],
   "source": [
    "'''Task1 Computer Vission '''\n",
    "import cv2\n",
    "import numpy as np\n",
    "import random \n",
    "import time \n",
    "\n",
    "cv2.namedWindow('Image')\n",
    "\n",
    "\n",
    "img = np.zeros((400, 500, 3), np.uint8)\n",
    "height, width, layers = img.shape\n",
    "size = (width,height)\n",
    "out = cv2.VideoWriter('project.avi',cv2.VideoWriter_fourcc(*'DIVX'), 15, size)\n",
    "end=start =time.time()\n",
    "while (end - start < 3):\n",
    "    end = time.time()\n",
    "    r = random.randrange(0,255)\n",
    "    g = random.randrange(0,255)\n",
    "    b = random.randrange(0,255)\n",
    "    \n",
    "    img[:] = [b,g,r]\n",
    "    cv2.imshow('Image', img)\n",
    "    out.write(img)\n",
    "    \n",
    "    k = cv2.waitKey(1)\n",
    "    if k == ord('q'):\n",
    "        break\n",
    "print(end - start)\n",
    "out.release()\n",
    "cv2.destroyAllWindows()"
   ]
  },
  {
   "cell_type": "code",
   "execution_count": 2,
   "id": "dba8b8ed",
   "metadata": {},
   "outputs": [],
   "source": [
    "''' Task2 '''\n",
    "import cv2\n",
    "import random \n",
    "import time \n",
    "image = np.zeros((500, 500,3), np.uint8)\n",
    "height, width, layers =image.shape\n",
    "size = (width,height)\n",
    "\n",
    "cv2.namedWindow('Image')\n",
    "image = np.zeros((500, 500,3), np.uint8)\n",
    "\n",
    "end=start =time.time()\n",
    "cv2.namedWindow('Image')\n",
    "out = cv2.VideoWriter('project2.avi',cv2.VideoWriter_fourcc(*'DIVX'), 10, size)\n",
    "while (end - start < 3):\n",
    "    end = time.time()\n",
    "    row =random.randrange(0,image.shape[0]-1)\n",
    "    col = random.randrange(0,image.shape[0]-1)\n",
    "    r = random.randrange(0,255)\n",
    "    g = random.randrange(0,255)\n",
    "    b = random.randrange(0,255)\n",
    "    \n",
    "    image = np.zeros((500, 500,3), np.uint8)\n",
    "    \n",
    "    image[row:(row+5),:, :] = [b,g,r]\n",
    "    image[:,col:(col+5),:] = [r,g,b]\n",
    "\n",
    "    cv2.imshow('Image', image)\n",
    "    k = cv2.waitKey(1)\n",
    "    if k == 27:\n",
    "        break\n",
    "    out.write(image)\n",
    "cv2.destroyAllWindows()"
   ]
  },
  {
   "cell_type": "code",
   "execution_count": null,
   "id": "529d61b8",
   "metadata": {},
   "outputs": [],
   "source": []
  },
  {
   "cell_type": "code",
   "execution_count": null,
   "id": "4050bb7d",
   "metadata": {},
   "outputs": [],
   "source": []
  }
 ],
 "metadata": {
  "kernelspec": {
   "display_name": "Python 3",
   "language": "python",
   "name": "python3"
  },
  "language_info": {
   "codemirror_mode": {
    "name": "ipython",
    "version": 3
   },
   "file_extension": ".py",
   "mimetype": "text/x-python",
   "name": "python",
   "nbconvert_exporter": "python",
   "pygments_lexer": "ipython3",
   "version": "3.8.8"
  }
 },
 "nbformat": 4,
 "nbformat_minor": 5
}

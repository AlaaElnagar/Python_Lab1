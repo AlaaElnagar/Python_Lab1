{
 "cells": [
  {
   "cell_type": "code",
   "execution_count": 30,
   "id": "181da8fc",
   "metadata": {},
   "outputs": [],
   "source": [
    "import cv2 \n",
    "\n",
    "\n",
    "log_max_width = 150\n",
    "car_max_width = 1200        #i found that car picture is very large so i have to resize it \n",
    "Margine       = 10 \n",
    "\n",
    "car_img       = cv2.imread('carkyo.jpg')\n",
    "log_img       =cv2.imread('tekomoro.png')\n",
    "\n",
    "\"resizing logo picture \"\n",
    "log_height,log_width,log_ch = log_img.shape\n",
    "log_max_height = int((log_max_width*log_height)/log_width)    #Ratio must be reserved. :)\n",
    "log_img=cv2.resize (log_img,(log_max_width ,log_max_height ))\n",
    "\n",
    "\"resizing car picture \"\n",
    "car_height,car_width,car_ch = car_img.shape\n",
    "car_max_height = int((car_max_width*car_height)/car_width)    #Ratio must be reserved. :)\n",
    "car_img=cv2.resize (car_img,(car_max_width ,car_max_height ))\n",
    "\n",
    "cv2.imshow(\"Task1\",car_img)\n",
    "cv2.waitKey(0)\n",
    "cv2.destroyAllWindows()"
   ]
  },
  {
   "cell_type": "code",
   "execution_count": 46,
   "id": "235ff320",
   "metadata": {},
   "outputs": [],
   "source": [
    "\n",
    "import cv2 \n",
    "from matplotlib import pyplot as plt\n",
    "\n",
    "log_max_width = 150\n",
    "car_max_width = 1200        #i found that car picture is very large so i have to resize it \n",
    "Margine       = 10 \n",
    "\n",
    "car_img       = cv2.imread('carkyo.jpg')\n",
    "log_img       =cv2.imread('tekomoro.png')\n",
    "\n",
    "\"resizing logo picture \"\n",
    "log_height,log_width,log_ch = log_img.shape\n",
    "log_max_height = int((log_max_width*log_height)/log_width)    #Ratio must be reserved. :)\n",
    "log_img=cv2.resize (log_img,(log_max_width ,log_max_height ))\n",
    "\n",
    "\"resizing car picture \"\n",
    "car_height,car_width,car_ch = car_img.shape\n",
    "car_max_height = int((car_max_width*car_height)/car_width)    #Ratio must be reserved. :)\n",
    "car_img=cv2.resize (car_img,(car_max_width ,car_max_height ))\n",
    "\n",
    "\"getting the sub points \"\n",
    "y_1    = (car_max_height-(log_max_height+Margine))\n",
    "y_2    = (car_max_height-Margine)\n",
    "x_1    = (car_max_width-(log_max_width+Margine))\n",
    "x_2    = (car_max_width-Margine)\n",
    "\n",
    "sub = car_img[y_1:y_2 , x_1:x_2]\n",
    "\n",
    "out = cv2.addWeighted(sub, 1,log_img, 1, 0)\n",
    "\n",
    "car_img[y_1:y_2 , x_1:x_2] = out\n",
    "\n",
    "cv2.imshow(\"Task1\",car_img)\n",
    "cv2.waitKey(0)\n",
    "cv2.destroyAllWindows()\n",
    "\n",
    "\n",
    "#car_img.shape\n"
   ]
  },
  {
   "cell_type": "code",
   "execution_count": 7,
   "id": "2b6bbe18",
   "metadata": {
    "collapsed": true
   },
   "outputs": [
    {
     "ename": "SyntaxError",
     "evalue": "unmatched ')' (<ipython-input-7-f949e1f1c33d>, line 12)",
     "output_type": "error",
     "traceback": [
      "\u001b[0;36m  File \u001b[0;32m\"<ipython-input-7-f949e1f1c33d>\"\u001b[0;36m, line \u001b[0;32m12\u001b[0m\n\u001b[0;31m    log_max_height = int((log_max_width*log_height)/log_width))    #Ratio must be reserved. :)\u001b[0m\n\u001b[0m                                                              ^\u001b[0m\n\u001b[0;31mSyntaxError\u001b[0m\u001b[0;31m:\u001b[0m unmatched ')'\n"
     ]
    }
   ],
   "source": []
  },
  {
   "cell_type": "code",
   "execution_count": 60,
   "id": "d043ac76",
   "metadata": {},
   "outputs": [
    {
     "data": {
      "image/png": "[encoded data removed]",
      "text/plain": [
       "<Figure size 432x288 with 1 Axes>"
      ]
     },
     "metadata": {
      "needs_background": "light"
     },
     "output_type": "display_data"
    }
   ],
   "source": [
    "\n",
    "import cv2 \n",
    "\n",
    "log_max_width = 150\n",
    "car_max_width = 800       #i found that car picture is very large so i had resized it \n",
    "Margine       = 10 \n",
    "\n",
    "car_img       = cv2.imread('carkyo.jpg')\n",
    "log_img       = cv2.imread('tekomoro.png')\n",
    "\n",
    "\"resizing logo picture \"\n",
    "log_height,log_width,log_ch = log_img.shape\n",
    "log_max_height = int((log_max_width*log_height)/log_width)    #Ratio must be reserved. :)\n",
    "log_img=cv2.resize (log_img,(log_max_width ,log_max_height ))\n",
    "\n",
    "\"resizing car picture \"\n",
    "car_height,car_width,car_ch = car_img.shape\n",
    "car_max_height = int((car_max_width*car_height)/car_width)   \n",
    "car_img=cv2.resize (car_img,(car_max_width ,car_max_height ))\n",
    "\n",
    "\n",
    "\"getting the sub points \"\n",
    "y_1    = (car_max_height-(log_max_height+Margine))\n",
    "y_2    = (car_max_height-Margine)\n",
    "x_1    = (car_max_width-(log_max_width+Margine))\n",
    "x_2    = (car_max_width-Margine)\n",
    "\n",
    "\"adjusting logo colour \"\n",
    "gray = cv2.cvtColor(log_img, cv2.COLOR_BGR2GRAY)\n",
    "\n",
    "ret, mask = cv2.threshold(gray, 50, 255, cv2.THRESH_BINARY_INV)\n",
    "\n",
    "mask_inv = cv2.bitwise_not(mask)\n",
    "\n",
    "\n",
    "sub = car_img[y_1:y_2 , x_1:x_2]\n",
    "\n",
    "img_bg = cv2.bitwise_and(sub, sub, mask=mask)\n",
    "plt.imshow(img_bg[:,:,::-1]);\n",
    "\n",
    "img_fg = cv2.bitwise_and(log_img, log_img, mask=mask_inv)\n",
    "plt.imshow(img_fg[:,:,::-1]);\n",
    "\n",
    "\n",
    "dst = cv2.add(img_bg, img_fg)\n",
    "plt.imshow(dst[:,:,::-1]);\n",
    "\n",
    "\n",
    "\n",
    "car_img[y_1:y_2 , x_1:x_2] = dst\n",
    "\n",
    "cv2.imshow(\"Task1\",car_img)\n",
    "cv2.waitKey(0)\n",
    "cv2.destroyAllWindows()\n",
    "\n",
    "\n",
    "#car_img.shape\n",
    "\n"
   ]
  },
  {
   "cell_type": "code",
   "execution_count": null,
   "id": "cc757122",
   "metadata": {},
   "outputs": [],
   "source": []
  }
 ],
 "metadata": {
  "kernelspec": {
   "display_name": "Python 3",
   "language": "python",
   "name": "python3"
  },
  "language_info": {
   "codemirror_mode": {
    "name": "ipython",
    "version": 3
   },
   "file_extension": ".py",
   "mimetype": "text/x-python",
   "name": "python",
   "nbconvert_exporter": "python",
   "pygments_lexer": "ipython3",
   "version": "3.8.8"
  }
 },
 "nbformat": 4,
 "nbformat_minor": 5
}

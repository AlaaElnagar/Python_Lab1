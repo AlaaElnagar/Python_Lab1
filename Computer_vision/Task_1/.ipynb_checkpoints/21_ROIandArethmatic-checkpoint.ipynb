{
 "cells": [
  {
   "cell_type": "markdown",
   "metadata": {},
   "source": [
    "# ROI and Arethmatic Lab\n",
    "\n",
    "In this lab we need to generate this output\n",
    "\n",
    "![Image](Files/21_output.png)\n",
    "\n",
    "## Criteria\n",
    "- Logo width must be 150px.\n",
    "- Ratio must be reserved.\n",
    "- Must be 10px away from right and bottom sides."
   ]
  },
  {
   "cell_type": "code",
   "execution_count": 36,
   "metadata": {},
   "outputs": [],
   "source": [
    "import cv2 \n",
    "\n",
    "log_max_width = 150\n",
    "car_max_width = 1500        #i found that car picture is very large so i have to resize it \n",
    "Margine   = 10 \n",
    "car_img = cv2.imread('carkyo.jpg')\n",
    "log_img =cv2.imread('tekomoro.png')\n",
    "\n",
    "\"resizing logo picture \"\n",
    "log_height,log_width,log_ch = log_img.shape\n",
    "log_max_height = int((max_width*log_height)/log_width)        #Ratio must be reserved. :)\n",
    "log_img=cv2.resize (log_img,(max_width ,new_width ))\n",
    "\n",
    "\"resizing car picture \"\n",
    "car_height,car_width,car_ch = car_img.shape\n",
    "car_max_height = int((car_max_width*car_height)/car_width)    #Ratio must be reserved. :)\n",
    "\n",
    "sub = car_img[(car_height-(log_max_height+10)):(car_height-10),(car_width-(log_max_width+10)):(car_width-10)]\n",
    "\n",
    "out = cv2.addWeighted(sub, 1,log_img, 1, 0)\n",
    "\n",
    "car_img[(car_height-(log_max_height+10)):(car_height-10),(car_width-(log_max_width+10)):(car_width-10)] = out\n",
    "#car_img = car_img[:,:,::-1]\n",
    "\n",
    "\n",
    "cv2.imshow(\"Task1\",car_img)\n",
    "cv2.waitKey(0)\n",
    "cv2.destroyAllWindows()"
   ]
  },
  {
   "cell_type": "code",
   "execution_count": null,
   "metadata": {},
   "outputs": [],
   "source": []
  },
  {
   "cell_type": "code",
   "execution_count": null,
   "metadata": {},
   "outputs": [],
   "source": []
  }
 ],
 "metadata": {
  "kernelspec": {
   "display_name": "Python 3",
   "language": "python",
   "name": "python3"
  },
  "language_info": {
   "codemirror_mode": {
    "name": "ipython",
    "version": 3
   },
   "file_extension": ".py",
   "mimetype": "text/x-python",
   "name": "python",
   "nbconvert_exporter": "python",
   "pygments_lexer": "ipython3",
   "version": "3.8.8"
  }
 },
 "nbformat": 4,
 "nbformat_minor": 2
}
